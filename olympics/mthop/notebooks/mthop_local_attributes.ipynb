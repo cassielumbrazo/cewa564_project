{
 "cells": [
  {
   "cell_type": "markdown",
   "metadata": {},
   "source": [
    "### Investigating the MtHopper_2016.nc forcing data and changing the local attributes file to match Mt Hop. "
   ]
  },
  {
   "cell_type": "markdown",
   "metadata": {},
   "source": [
    "Import packages"
   ]
  },
  {
   "cell_type": "code",
   "execution_count": 2,
   "metadata": {},
   "outputs": [],
   "source": [
    "%matplotlib inline\n",
    "import matplotlib.pyplot as plt\n",
    "import pysumma as ps\n",
    "import copy\n",
    "import os.path\n",
    "\n",
    "from pysumma.plotting import plotting\n",
    "from jupyterthemes import jtplot\n",
    "\n",
    "from netCDF4 import Dataset\n",
    "import pandas as pd\n",
    "import numpy as np\n",
    "import xarray as xr"
   ]
  },
  {
   "cell_type": "code",
   "execution_count": 2,
   "metadata": {},
   "outputs": [
    {
     "data": {
      "text/plain": [
       "<class 'netCDF4._netCDF4.Dataset'>\n",
       "root group (NETCDF4_CLASSIC data model, file format HDF5):\n",
       "    dimensions(sizes): hru(1), time(7177)\n",
       "    variables(dimensions): float64 \u001b[4mLWRadAtm\u001b[0m(time,hr), float64 \u001b[4mSWRadAtm\u001b[0m(time,hr), float64 \u001b[4mairtemp\u001b[0m(time,hr), float64 \u001b[4mpptrate\u001b[0m(time,hr), float64 \u001b[4mspechum\u001b[0m(time,hr), float64 \u001b[4mairpres\u001b[0m(time,hr), float64 \u001b[4mwindspd\u001b[0m(time,hr), float64 \u001b[4mtime\u001b[0m(time), float64 \u001b[4mdatastep\u001b[0m(), float64 \u001b[4mlatitude\u001b[0m(hr), float64 \u001b[4mlongitude\u001b[0m(hr), float64 \u001b[4mhruID\u001b[0m(hr), float64 \u001b[4mhruId\u001b[0m(hr), float64 \u001b[4mdata_step\u001b[0m()\n",
       "    groups: "
      ]
     },
     "execution_count": 2,
     "metadata": {},
     "output_type": "execute_result"
    }
   ],
   "source": [
    "# Want to investigate the forcings data for mtHop\n",
    "mthop_forcings_file = '/home/jovyan/work/cewa564_project/olympics/mthop/summa_setup/forcings/MtHopper_2016.nc'\n",
    "mthop_forcings = Dataset(mthop_forcings_file, mode='r') #from netCDF4 import Dataset \n",
    "\n",
    "mthop_forcings"
   ]
  },
  {
   "cell_type": "code",
   "execution_count": 3,
   "metadata": {},
   "outputs": [
    {
     "data": {
      "text/plain": [
       "<xarray.Dataset>\n",
       "Dimensions:    (hru: 1, time: 7177)\n",
       "Coordinates:\n",
       "  * time       (time) datetime64[ns] 2015-10-01 ... 2016-07-26\n",
       "Dimensions without coordinates: hru\n",
       "Data variables:\n",
       "    LWRadAtm   (time, hru) float64 ...\n",
       "    SWRadAtm   (time, hru) float64 ...\n",
       "    airtemp    (time, hru) float64 ...\n",
       "    pptrate    (time, hru) float64 ...\n",
       "    spechum    (time, hru) float64 ...\n",
       "    airpres    (time, hru) float64 ...\n",
       "    windspd    (time, hru) float64 ...\n",
       "    datastep   float64 ...\n",
       "    latitude   (hru) float64 ...\n",
       "    longitude  (hru) float64 ...\n",
       "    hruID      (hru) float64 ...\n",
       "    hruId      (hru) float64 ...\n",
       "    data_step  float64 ..."
      ]
     },
     "execution_count": 3,
     "metadata": {},
     "output_type": "execute_result"
    }
   ],
   "source": [
    "# Trying to open the dataset with xarray instead\n",
    "mthop_xr = xr.open_dataset(mthop_forcings_file)\n",
    "mthop_xr"
   ]
  },
  {
   "cell_type": "code",
   "execution_count": 4,
   "metadata": {},
   "outputs": [
    {
     "data": {
      "text/plain": [
       "<xarray.DataArray 'latitude' (hru: 1)>\n",
       "array([47.633794])\n",
       "Dimensions without coordinates: hru"
      ]
     },
     "execution_count": 4,
     "metadata": {},
     "output_type": "execute_result"
    }
   ],
   "source": [
    "mthop_xr['latitude']"
   ]
  },
  {
   "cell_type": "code",
   "execution_count": 5,
   "metadata": {},
   "outputs": [
    {
     "data": {
      "text/plain": [
       "<xarray.DataArray 'longitude' (hru: 1)>\n",
       "array([-123.310106])\n",
       "Dimensions without coordinates: hru"
      ]
     },
     "execution_count": 5,
     "metadata": {},
     "output_type": "execute_result"
    }
   ],
   "source": [
    "mthop_xr['longitude']"
   ]
  },
  {
   "cell_type": "code",
   "execution_count": 14,
   "metadata": {},
   "outputs": [
    {
     "data": {
      "text/plain": [
       "<xarray.DataArray 'hruID' (hru: 1)>\n",
       "array([9.96921e+36])\n",
       "Dimensions without coordinates: hru"
      ]
     },
     "execution_count": 14,
     "metadata": {},
     "output_type": "execute_result"
    }
   ],
   "source": [
    "mthop_xr['hruID']"
   ]
  },
  {
   "cell_type": "code",
   "execution_count": 15,
   "metadata": {},
   "outputs": [
    {
     "data": {
      "text/plain": [
       "<xarray.DataArray 'hruId' (hru: 1)>\n",
       "array([1001.])\n",
       "Dimensions without coordinates: hru"
      ]
     },
     "execution_count": 15,
     "metadata": {},
     "output_type": "execute_result"
    }
   ],
   "source": [
    "mthop_xr['hruId']"
   ]
  },
  {
   "cell_type": "code",
   "execution_count": 16,
   "metadata": {},
   "outputs": [
    {
     "data": {
      "text/plain": [
       "<xarray.DataArray 'data_step' ()>\n",
       "array(3600.)"
      ]
     },
     "execution_count": 16,
     "metadata": {},
     "output_type": "execute_result"
    }
   ],
   "source": [
    "mthop_xr['data_step']"
   ]
  },
  {
   "cell_type": "code",
   "execution_count": null,
   "metadata": {},
   "outputs": [],
   "source": []
  },
  {
   "cell_type": "code",
   "execution_count": 15,
   "metadata": {},
   "outputs": [
    {
     "name": "stderr",
     "output_type": "stream",
     "text": [
      "/srv/conda/lib/python3.6/site-packages/pandas/plotting/_converter.py:129: FutureWarning: Using an implicitly registered datetime converter for a matplotlib plotting method. The converter was registered by pandas on import. Future versions of pandas will require you to explicitly register matplotlib converters.\n",
      "\n",
      "To register the converters:\n",
      "\t>>> from pandas.plotting import register_matplotlib_converters\n",
      "\t>>> register_matplotlib_converters()\n",
      "  warnings.warn(msg, FutureWarning)\n"
     ]
    },
    {
     "data": {
      "text/plain": [
       "[<matplotlib.lines.Line2D at 0x7efdcea35dd8>]"
      ]
     },
     "execution_count": 15,
     "metadata": {},
     "output_type": "execute_result"
    },
    {
     "data": {
      "image/png": "[encoded data removed]",
      "text/plain": [
       "<Figure size 432x288 with 1 Axes>"
      ]
     },
     "metadata": {
      "needs_background": "light"
     },
     "output_type": "display_data"
    }
   ],
   "source": [
    "mthop_xr['airtemp'].plot()"
   ]
  },
  {
   "cell_type": "markdown",
   "metadata": {},
   "source": [
    "## Editing the local attributes netCDF"
   ]
  },
  {
   "cell_type": "code",
   "execution_count": 4,
   "metadata": {},
   "outputs": [
    {
     "data": {
      "text/plain": [
       "<class 'netCDF4._netCDF4.Dataset'>\n",
       "root group (NETCDF4 data model, file format HDF5):\n",
       "    history: Converted to NetCDF using \"../../tools/localAttributes_ascii_to_nc.py --nc_template ../../tools/summa_zLocalAttributes_template.nc --ascii_in summa_zLocalAttributes_Amplero.txt --nc_out summa_zLocalAttributes_Amplero.nc\" on 2017-05-08 08:34:16\n",
       "\n",
       "    dimensions(sizes): hru(1), gru(1)\n",
       "    variables(dimensions): int32 \u001b[4mhruId\u001b[0m(hr), int32 \u001b[4mgruId\u001b[0m(gr), int32 \u001b[4mhru2gruId\u001b[0m(hr), int32 \u001b[4mdownHRUindex\u001b[0m(hr), float64 \u001b[4mlongitude\u001b[0m(hr), float64 \u001b[4mlatitude\u001b[0m(hr), float64 \u001b[4melevation\u001b[0m(hr), float64 \u001b[4mHRUarea\u001b[0m(hr), float64 \u001b[4mtan_slope\u001b[0m(hr), float64 \u001b[4mcontourLength\u001b[0m(hr), int32 \u001b[4mslopeTypeIndex\u001b[0m(hr), int32 \u001b[4msoilTypeIndex\u001b[0m(hr), int32 \u001b[4mvegTypeIndex\u001b[0m(hr), float64 \u001b[4mmHeight\u001b[0m(hr)\n",
       "    groups: "
      ]
     },
     "execution_count": 4,
     "metadata": {},
     "output_type": "execute_result"
    }
   ],
   "source": [
    "# Need to change the local attributes netCDF to contain the correct information.\n",
    "# Lat, long, elevation, tan_slope, contour length, HRU area, mHeight\n",
    "local_attributes_file = '/home/jovyan/work/cewa564_project/olympics/mthop/summa_setup/params/local_attributes_og_copy.nc'\n",
    "local_a = Dataset(local_attributes_file, mode='r')\n",
    "local_a"
   ]
  },
  {
   "cell_type": "markdown",
   "metadata": {},
   "source": [
    "#### Changing the attributes file here with xarray\n",
    "\n",
    "* xarray to netCDF is a built in function\n",
    "* xarray.Dataset.to_netcdf(path=None, mode='w')\n",
    "* http://xarray.pydata.org/en/stable/generated/xarray.Dataset.to_netcdf.html"
   ]
  },
  {
   "cell_type": "code",
   "execution_count": 5,
   "metadata": {},
   "outputs": [],
   "source": [
    "# Mtn Hopper\n",
    "# - Latitude should be: 47.633794\n",
    "# - Longitude should be: -123.310106\n",
    "# - Elevation should be: 4748 in feet or 1447.19 meters, need it in meters \n",
    "\n",
    "site_latitude = 47.633794\n",
    "site_longitude = 123.310106\n",
    "site_elevation  = 1447.19\n",
    "\n",
    "local_attributes_file = '/home/jovyan/work/cewa564_project/olympics/mthop/summa_setup/params/local_attributes_og_copy.nc'\n",
    "local_xr = xr.open_dataset(local_attributes_file)"
   ]
  },
  {
   "cell_type": "code",
   "execution_count": 6,
   "metadata": {},
   "outputs": [],
   "source": [
    "# changing  the values in the xarray dataset \n",
    "local_xr['latitude'][:] = site_latitude\n",
    "local_xr['longitude'][:] = site_longitude\n",
    "local_xr['elevation'][:] = site_elevation"
   ]
  },
  {
   "cell_type": "code",
   "execution_count": 7,
   "metadata": {},
   "outputs": [
    {
     "data": {
      "text/plain": [
       "<xarray.DataArray 'hruId' (hru: 1)>\n",
       "array([1001], dtype=int32)\n",
       "Dimensions without coordinates: hru\n",
       "Attributes:\n",
       "    long_name:  Index of hydrological response unit (HRU)\n",
       "    units:      -\n",
       "    v_type:     scalarv"
      ]
     },
     "execution_count": 7,
     "metadata": {},
     "output_type": "execute_result"
    }
   ],
   "source": [
    "local_xr['hruId'] # 1001 is correct "
   ]
  },
  {
   "cell_type": "code",
   "execution_count": 8,
   "metadata": {},
   "outputs": [
    {
     "data": {
      "text/plain": [
       "<xarray.DataArray 'latitude' (hru: 1)>\n",
       "array([47.633794])\n",
       "Dimensions without coordinates: hru\n",
       "Attributes:\n",
       "    long_name:  Latitude of HRU's centroid\n",
       "    units:      Decimal degree north"
      ]
     },
     "execution_count": 8,
     "metadata": {},
     "output_type": "execute_result"
    }
   ],
   "source": [
    "# Just checking\n",
    "local_xr['latitude']"
   ]
  },
  {
   "cell_type": "code",
   "execution_count": 9,
   "metadata": {},
   "outputs": [],
   "source": [
    "# write the correct xarray values to a new netCDF file\n",
    "#xr.local.to_netcdf\n",
    "local_xr.to_netcdf('/home/jovyan/work/cewa564_project/olympics/mthop/summa_setup/params/local_attributes.nc')"
   ]
  },
  {
   "cell_type": "code",
   "execution_count": null,
   "metadata": {},
   "outputs": [],
   "source": []
  },
  {
   "cell_type": "code",
   "execution_count": null,
   "metadata": {},
   "outputs": [],
   "source": []
  }
 ],
 "metadata": {
  "kernelspec": {
   "display_name": "Python 3",
   "language": "python",
   "name": "python3"
  },
  "language_info": {
   "codemirror_mode": {
    "name": "ipython",
    "version": 3
   },
   "file_extension": ".py",
   "mimetype": "text/x-python",
   "name": "python",
   "nbconvert_exporter": "python",
   "pygments_lexer": "ipython3",
   "version": "3.6.7"
  }
 },
 "nbformat": 4,
 "nbformat_minor": 2
}
