{
 "cells": [
  {
   "cell_type": "markdown",
   "metadata": {},
   "source": [
    "### Troubleshooting the Time-step Issue in MtHop Canopy"
   ]
  },
  {
   "cell_type": "code",
   "execution_count": 2,
   "metadata": {},
   "outputs": [],
   "source": [
    "%matplotlib inline\n",
    "import matplotlib.pyplot as plt\n",
    "import pysumma as ps\n",
    "import copy\n",
    "import os.path\n",
    "\n",
    "from pysumma.plotting import plotting\n",
    "from jupyterthemes import jtplot\n",
    "\n",
    "import pandas as pd\n",
    "import numpy as np\n",
    "import xarray as xr"
   ]
  },
  {
   "cell_type": "code",
   "execution_count": 3,
   "metadata": {},
   "outputs": [
    {
     "name": "stdout",
     "output_type": "stream",
     "text": [
      "/home/jovyan/work/cewa564_project/olympics/mthop/notebooks\n"
     ]
    }
   ],
   "source": [
    "!pwd"
   ]
  },
  {
   "cell_type": "markdown",
   "metadata": {},
   "source": [
    "#### Investigating the Local Attributes File First"
   ]
  },
  {
   "cell_type": "code",
   "execution_count": 5,
   "metadata": {},
   "outputs": [
    {
     "data": {
      "text/plain": [
       "<xarray.Dataset>\n",
       "Dimensions:         (gru: 1, hru: 1)\n",
       "Dimensions without coordinates: gru, hru\n",
       "Data variables:\n",
       "    hruId           (hru) int32 ...\n",
       "    gruId           (gru) int32 ...\n",
       "    hru2gruId       (hru) int32 ...\n",
       "    downHRUindex    (hru) int32 ...\n",
       "    longitude       (hru) float64 ...\n",
       "    latitude        (hru) float64 ...\n",
       "    elevation       (hru) float64 ...\n",
       "    HRUarea         (hru) float64 ...\n",
       "    tan_slope       (hru) float64 ...\n",
       "    contourLength   (hru) float64 ...\n",
       "    slopeTypeIndex  (hru) int32 ...\n",
       "    soilTypeIndex   (hru) int32 ...\n",
       "    vegTypeIndex    (hru) int32 ...\n",
       "    mHeight         (hru) float64 ...\n",
       "Attributes:\n",
       "    history:  Converted to NetCDF using \"../../tools/localAttributes_ascii_to..."
      ]
     },
     "execution_count": 5,
     "metadata": {},
     "output_type": "execute_result"
    }
   ],
   "source": [
    "local_a = xr.open_dataset('/home/jovyan/work/cewa564_project/olympics/mthop/summa_setup/params/local_attributes.nc')\n",
    "local_a"
   ]
  },
  {
   "cell_type": "code",
   "execution_count": 9,
   "metadata": {},
   "outputs": [
    {
     "data": {
      "text/plain": [
       "<xarray.DataArray 'hru2gruId' (hru: 1)>\n",
       "array([1001], dtype=int32)\n",
       "Dimensions without coordinates: hru\n",
       "Attributes:\n",
       "    long_name:  Index of GRU to which the HRU belongs\n",
       "    units:      -"
      ]
     },
     "execution_count": 9,
     "metadata": {},
     "output_type": "execute_result"
    }
   ],
   "source": [
    "local_a.hru2gruId"
   ]
  },
  {
   "cell_type": "code",
   "execution_count": 10,
   "metadata": {},
   "outputs": [
    {
     "data": {
      "text/plain": [
       "<xarray.DataArray 'gruId' (gru: 1)>\n",
       "array([1001], dtype=int32)\n",
       "Dimensions without coordinates: gru\n",
       "Attributes:\n",
       "    long_name:  Index of grouped response unit (GRU)\n",
       "    units:      -\n",
       "    v_type:     scalarv"
      ]
     },
     "execution_count": 10,
     "metadata": {},
     "output_type": "execute_result"
    }
   ],
   "source": [
    "local_a.gruId"
   ]
  },
  {
   "cell_type": "code",
   "execution_count": 11,
   "metadata": {},
   "outputs": [
    {
     "data": {
      "text/plain": [
       "<xarray.DataArray 'hruId' (hru: 1)>\n",
       "array([1001], dtype=int32)\n",
       "Dimensions without coordinates: hru\n",
       "Attributes:\n",
       "    long_name:  Index of hydrological response unit (HRU)\n",
       "    units:      -\n",
       "    v_type:     scalarv"
      ]
     },
     "execution_count": 11,
     "metadata": {},
     "output_type": "execute_result"
    }
   ],
   "source": [
    "local_a.hruId"
   ]
  },
  {
   "cell_type": "markdown",
   "metadata": {},
   "source": [
    "#### Investigating the Forcing Data, looking for date/time step Issues"
   ]
  },
  {
   "cell_type": "code",
   "execution_count": 14,
   "metadata": {},
   "outputs": [
    {
     "data": {
      "text/plain": [
       "<xarray.Dataset>\n",
       "Dimensions:    (hru: 1, time: 7177)\n",
       "Coordinates:\n",
       "  * time       (time) datetime64[ns] 2015-10-01 ... 2016-07-26\n",
       "Dimensions without coordinates: hru\n",
       "Data variables:\n",
       "    LWRadAtm   (time, hru) float64 ...\n",
       "    SWRadAtm   (time, hru) float64 ...\n",
       "    airtemp    (time, hru) float64 ...\n",
       "    pptrate    (time, hru) float64 ...\n",
       "    spechum    (time, hru) float64 ...\n",
       "    airpres    (time, hru) float64 ...\n",
       "    windspd    (time, hru) float64 ...\n",
       "    datastep   float64 ...\n",
       "    latitude   (hru) float64 ...\n",
       "    longitude  (hru) float64 ...\n",
       "    hruID      (hru) float64 ...\n",
       "    hruId      (hru) float64 ...\n",
       "    data_step  float64 ..."
      ]
     },
     "execution_count": 14,
     "metadata": {},
     "output_type": "execute_result"
    }
   ],
   "source": [
    "forcing = xr.open_dataset('/home/jovyan/work/cewa564_project/olympics/mthop/summa_setup/forcings/MtHopper_2016_filled.nc')\n",
    "forcing"
   ]
  },
  {
   "cell_type": "code",
   "execution_count": 15,
   "metadata": {},
   "outputs": [
    {
     "data": {
      "text/plain": [
       "<xarray.DataArray 'data_step' ()>\n",
       "array(3600.)"
      ]
     },
     "execution_count": 15,
     "metadata": {},
     "output_type": "execute_result"
    }
   ],
   "source": [
    "forcing.data_step"
   ]
  },
  {
   "cell_type": "code",
   "execution_count": 16,
   "metadata": {},
   "outputs": [
    {
     "data": {
      "text/plain": [
       "<xarray.DataArray 'datastep' ()>\n",
       "array(9.96921e+36)"
      ]
     },
     "execution_count": 16,
     "metadata": {},
     "output_type": "execute_result"
    }
   ],
   "source": [
    "forcing.datastep"
   ]
  },
  {
   "cell_type": "code",
   "execution_count": 17,
   "metadata": {},
   "outputs": [
    {
     "data": {
      "text/plain": [
       "<xarray.DataArray 'hruID' (hru: 1)>\n",
       "array([9.96921e+36])\n",
       "Dimensions without coordinates: hru"
      ]
     },
     "execution_count": 17,
     "metadata": {},
     "output_type": "execute_result"
    }
   ],
   "source": [
    "forcing.hruID"
   ]
  },
  {
   "cell_type": "code",
   "execution_count": 18,
   "metadata": {},
   "outputs": [
    {
     "data": {
      "text/plain": [
       "<xarray.DataArray 'hruId' (hru: 1)>\n",
       "array([1001.])\n",
       "Dimensions without coordinates: hru"
      ]
     },
     "execution_count": 18,
     "metadata": {},
     "output_type": "execute_result"
    }
   ],
   "source": [
    "forcing.hruId"
   ]
  },
  {
   "cell_type": "code",
   "execution_count": null,
   "metadata": {},
   "outputs": [],
   "source": []
  },
  {
   "cell_type": "markdown",
   "metadata": {},
   "source": [
    "### Going to look into the CUES site data and see if the date time/ HRUid/ etc are all the same... "
   ]
  },
  {
   "cell_type": "code",
   "execution_count": 19,
   "metadata": {},
   "outputs": [
    {
     "name": "stdout",
     "output_type": "stream",
     "text": [
      "/home/jovyan/work/cewa564_project/olympics/mthop/notebooks\n"
     ]
    }
   ],
   "source": [
    "!pwd"
   ]
  },
  {
   "cell_type": "code",
   "execution_count": 20,
   "metadata": {},
   "outputs": [
    {
     "data": {
      "text/plain": [
       "<xarray.Dataset>\n",
       "Dimensions:    (hru: 1, time: 8784)\n",
       "Coordinates:\n",
       "  * time       (time) datetime64[ns] 2016-01-01T01:00:00 ... 2017-01-01\n",
       "Dimensions without coordinates: hru\n",
       "Data variables:\n",
       "    airpres    (time, hru) float64 ...\n",
       "    spechum    (time, hru) float64 ...\n",
       "    windspd    (time, hru) float64 ...\n",
       "    airtemp    (time, hru) float64 ...\n",
       "    SWRadAtm   (time, hru) float64 ...\n",
       "    LWRadAtm   (time, hru) float64 ...\n",
       "    pptrate    (time, hru) float64 ...\n",
       "    latitude   (hru) float64 ...\n",
       "    longitude  (hru) float64 ...\n",
       "    data_step  float64 ...\n",
       "    hruId      (hru) int32 ..."
      ]
     },
     "execution_count": 20,
     "metadata": {},
     "output_type": "execute_result"
    }
   ],
   "source": [
    "cues_forcing = xr.open_dataset('/home/jovyan/cues/summa_setup/forcings/cues2016.nc')\n",
    "cues_forcing"
   ]
  },
  {
   "cell_type": "code",
   "execution_count": null,
   "metadata": {},
   "outputs": [],
   "source": []
  },
  {
   "cell_type": "code",
   "execution_count": null,
   "metadata": {},
   "outputs": [],
   "source": []
  },
  {
   "cell_type": "code",
   "execution_count": null,
   "metadata": {},
   "outputs": [],
   "source": []
  },
  {
   "cell_type": "code",
   "execution_count": null,
   "metadata": {},
   "outputs": [],
   "source": []
  }
 ],
 "metadata": {
  "kernelspec": {
   "display_name": "Python 3",
   "language": "python",
   "name": "python3"
  },
  "language_info": {
   "codemirror_mode": {
    "name": "ipython",
    "version": 3
   },
   "file_extension": ".py",
   "mimetype": "text/x-python",
   "name": "python",
   "nbconvert_exporter": "python",
   "pygments_lexer": "ipython3",
   "version": "3.6.7"
  }
 },
 "nbformat": 4,
 "nbformat_minor": 2
}
