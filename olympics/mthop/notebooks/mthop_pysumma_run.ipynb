{
 "cells": [
  {
   "cell_type": "markdown",
   "metadata": {},
   "source": [
    "### Preliminary Analysis of the Niwot pySUMMA Model Run"
   ]
  },
  {
   "cell_type": "markdown",
   "metadata": {},
   "source": [
    "Import Packages"
   ]
  },
  {
   "cell_type": "code",
   "execution_count": 1,
   "metadata": {},
   "outputs": [],
   "source": [
    "%matplotlib inline\n",
    "import matplotlib.pyplot as plt\n",
    "import pysumma as ps\n",
    "import copy\n",
    "import os.path\n",
    "\n",
    "from pysumma.plotting import plotting\n",
    "from jupyterthemes import jtplot\n",
    "\n",
    "import pandas as pd\n",
    "import numpy as np\n",
    "import xarray as xr"
   ]
  },
  {
   "cell_type": "code",
   "execution_count": 2,
   "metadata": {},
   "outputs": [],
   "source": [
    "# Plotting assistance defaults set here\n",
    "import seaborn as sns # a module that adds some plotting capabilities and makes your plots look better\n",
    "import matplotlib as mpl\n",
    "sns.set() # activates some of the default settings from seaborn\n",
    "# The following settings just set some defaults for the plots\n",
    "plt.rcParams['figure.figsize']  = (11, 4)\n",
    "plt.rcParams['axes.titlesize']  = 14\n",
    "plt.rcParams['axes.labelsize']  = 12\n",
    "plt.rcParams['xtick.labelsize'] = 11\n",
    "plt.rcParams['ytick.labelsize'] = 11\n",
    "plt.rcParams['legend.fontsize'] = 11\n",
    "mpl.rcParams['figure.dpi'] = 100"
   ]
  },
  {
   "cell_type": "code",
   "execution_count": 3,
   "metadata": {},
   "outputs": [
    {
     "name": "stdout",
     "output_type": "stream",
     "text": [
      "/home/jovyan/work/cewa564_project/olympics/mthop/notebooks\n"
     ]
    }
   ],
   "source": [
    "!pwd"
   ]
  },
  {
   "cell_type": "code",
   "execution_count": 5,
   "metadata": {},
   "outputs": [
    {
     "data": {
      "text/plain": [
       "<xarray.DataArray 'time' ()>\n",
       "array('2016-07-26T00:00:00.000000000', dtype='datetime64[ns]')\n",
       "Coordinates:\n",
       "    time     datetime64[ns] 2016-07-26"
      ]
     },
     "execution_count": 5,
     "metadata": {},
     "output_type": "execute_result"
    }
   ],
   "source": [
    "# Need to change the time in the decisions file to match this simulation object \n",
    "ds = xr.open_dataset('/home/jovyan/work/cewa564_project/olympics/mthop/summa_setup/forcings/MtHopper_2016_filled.nc')\n",
    "ds.time[7176] # ds.time.size is 7177 starting at 0 "
   ]
  },
  {
   "cell_type": "code",
   "execution_count": 4,
   "metadata": {},
   "outputs": [
    {
     "data": {
      "text/plain": [
       "<xarray.DataArray 'airtemp' ()>\n",
       "array(293.145538)"
      ]
     },
     "execution_count": 4,
     "metadata": {},
     "output_type": "execute_result"
    }
   ],
   "source": [
    "# Investigating the temperature in the forcing data\n",
    "forceairtemp = ds.airtemp\n",
    "forceairtemp.max()\n",
    "#forceairtemp.min()"
   ]
  },
  {
   "cell_type": "code",
   "execution_count": 6,
   "metadata": {},
   "outputs": [
    {
     "data": {
      "text/plain": [
       "<xarray.DataArray 'spechum' (time: 7177, hru: 1)>\n",
       "array([[0.003],\n",
       "       [0.003],\n",
       "       [0.003],\n",
       "       ...,\n",
       "       [0.003],\n",
       "       [0.003],\n",
       "       [0.003]])\n",
       "Coordinates:\n",
       "  * time     (time) datetime64[ns] 2015-10-01 2015-10-01T01:00:00 ... 2016-07-26\n",
       "Dimensions without coordinates: hru"
      ]
     },
     "execution_count": 6,
     "metadata": {},
     "output_type": "execute_result"
    }
   ],
   "source": [
    "# Investigating relative humidity in the forcing data \n",
    "ds.spechum"
   ]
  },
  {
   "cell_type": "code",
   "execution_count": 7,
   "metadata": {},
   "outputs": [],
   "source": [
    "# Create SUMMA excecuteable and paths \n",
    "summa_executable = 'summa.exe'\n",
    "case_path = '/home/jovyan/work/cewa564_project/olympics/mthop/summa_setup'\n",
    "filemanager_path = os.path.join(case_path, 'file_manager.txt') \n",
    "\n",
    "# Create a Default Simulation Object\n",
    "S = ps.Simulation(executable='summa.exe', filemanager=filemanager_path)"
   ]
  },
  {
   "cell_type": "code",
   "execution_count": 8,
   "metadata": {},
   "outputs": [
    {
     "name": "stdout",
     "output_type": "stream",
     "text": [
      "scalarCanopyWat                      | 1 | 0 | 1 | 0 | 0 | 0 | 0 | 0\n",
      "scalarSnowAge                        | 1 | 0 | 1 | 0 | 0 | 0 | 0 | 0\n",
      "scalarCanopyWetFraction              | 1 | 0 | 1 | 0 | 0 | 0 | 0 | 0\n"
     ]
    }
   ],
   "source": [
    "# set the simulation start and finish times\n",
    "S.decisions.simulStart.set_value(\"2015-10-01 00:00:00\")\n",
    "S.decisions.simulFinsh.set_value(\"2016-07-26 00:00:00\")\n",
    "\n",
    "# set the stomatal resistance option\n",
    "S.decisions.stomResist.set_value('BallBerry')\n",
    "\n",
    "# add the canopyWat & others to the output simulation object\n",
    "S.output_control.set_option(name='scalarCanopyWat',period=1, instant=1, sum=0, mean=0, variance=0, min=0, max=0, mode=0)\n",
    "S.output_control.set_option(name='scalarSnowAge',period=1, instant=1, sum=0, mean=0, variance=0, min=0, max=0, mode=0)\n",
    "S.output_control.set_option(name='scalarCanopyWetFraction',period=1, instant=1, sum=0, mean=0, variance=0, min=0, max=0, mode=0)"
   ]
  },
  {
   "cell_type": "code",
   "execution_count": 70,
   "metadata": {},
   "outputs": [
    {
     "data": {
      "text/plain": [
       "['BallBerry', 'Jarvis', 'simpleResistance', 'BallBerryFlex', 'BallBerryTest']"
      ]
     },
     "execution_count": 70,
     "metadata": {},
     "output_type": "execute_result"
    }
   ],
   "source": [
    "S.decisions.stomResist.available_options"
   ]
  },
  {
   "cell_type": "code",
   "execution_count": 9,
   "metadata": {},
   "outputs": [
    {
     "data": {
      "text/plain": [
       "False"
      ]
     },
     "execution_count": 9,
     "metadata": {},
     "output_type": "execute_result"
    }
   ],
   "source": [
    "# Run the pySUMMA simulation\n",
    "S.start(run_option='local', run_suffix='default')\n",
    "S.monitor()"
   ]
  },
  {
   "cell_type": "code",
   "execution_count": 15,
   "metadata": {},
   "outputs": [
    {
     "data": {
      "text/plain": [
       "Text(0.5, 1.0, 'scalrCanopyWat for Olympic National Park Site')"
      ]
     },
     "execution_count": 15,
     "metadata": {},
     "output_type": "execute_result"
    },
    {
     "data": {
      "image/png": "[encoded data removed]",
      "text/plain": [
       "<Figure size 1100x400 with 1 Axes>"
      ]
     },
     "metadata": {},
     "output_type": "display_data"
    }
   ],
   "source": [
    "S.output.scalarCanopyWat.plot()\n",
    "plt.title('scalrCanopyWat for Olympic National Park Site')"
   ]
  },
  {
   "cell_type": "code",
   "execution_count": 11,
   "metadata": {},
   "outputs": [
    {
     "data": {
      "text/plain": [
       "Text(0, 0.5, 'SWE in the Canopy [cm]')"
      ]
     },
     "execution_count": 11,
     "metadata": {},
     "output_type": "execute_result"
    },
    {
     "data": {
      "image/png": "[encoded data removed]",
      "text/plain": [
       "<Figure size 1100x400 with 1 Axes>"
      ]
     },
     "metadata": {},
     "output_type": "display_data"
    }
   ],
   "source": [
    "# Getting snow in the canopy as an ammount in [cm] using the density of water \n",
    "# density of water is 997 kg/m^3 \n",
    "# our mass of total water in the canopy is kg / m^2 \n",
    "\n",
    "canopySWE = (S.output.scalarCanopyWat/997)*100 # also, multiply by 100 to get from m to cm of SWE in canopy [cm]\n",
    "canopySWE.plot()\n",
    "plt.ylabel('SWE in the Canopy [cm]')"
   ]
  },
  {
   "cell_type": "code",
   "execution_count": 12,
   "metadata": {},
   "outputs": [
    {
     "data": {
      "text/plain": [
       "[<matplotlib.lines.Line2D at 0x7f0ffda210f0>]"
      ]
     },
     "execution_count": 12,
     "metadata": {},
     "output_type": "execute_result"
    },
    {
     "data": {
      "image/png": "[encoded data removed]",
      "text/plain": [
       "<Figure size 1100x400 with 1 Axes>"
      ]
     },
     "metadata": {},
     "output_type": "display_data"
    }
   ],
   "source": [
    "# Checking on the model output\n",
    "S.output.scalarSWE.plot()"
   ]
  },
  {
   "cell_type": "code",
   "execution_count": 10,
   "metadata": {},
   "outputs": [
    {
     "name": "stdout",
     "output_type": "stream",
     "text": [
      "stdout:\n",
      "-------\n",
      "file_suffix is 'default'.\n",
      "file_master is '/home/jovyan/work/cewa564_project/olympics/mthop/summa_setup/file_manager.txt'.\n",
      "start at 20:11:17\n",
      "Name of Model Output control file: /home/jovyan/work/cewa564_project/olympics/mthop/summa_setup/settings/output_control.txt\n",
      "decisions file =  /home/jovyan/work/cewa564_project/olympics/mthop/summa_setup/settings/decisions.txt\n",
      "   1 simulStart: 2015-10-01 00:00:00\n",
      "   2 simulFinsh: 2016-07-26 00:00:00\n",
      "   3 soilCatTbl: ROSETTA\n",
      "   4 vegeParTbl: MODIFIED_IGBP_MODIS_NOAH\n",
      "   5 soilStress: NoahType\n",
      "   6 stomResist: simpleResistance\n",
      "   7 num_method: itertive\n",
      "   8 fDerivMeth: analytic\n",
      "   9 LAI_method: monTable\n",
      "  10 f_Richards: mixdform\n",
      "  11 groundwatr: qTopmodl\n",
      "  12 hc_profile: pow_prof\n",
      "  13 bcUpprTdyn: nrg_flux\n",
      "  14 bcLowrTdyn: zeroFlux\n",
      "  15 bcUpprSoiH: liq_flux\n",
      "  16 bcLowrSoiH: zeroFlux\n",
      "  17 veg_traits: CM_QJRMS1988\n",
      "  18 rootProfil: powerLaw\n",
      "  19 canopyEmis: difTrans\n",
      "  20 snowIncept: lightSnow\n",
      "  21 windPrfile: logBelowCanopy\n",
      "  22 astability: louisinv\n",
      "  23 canopySrad: BeersLaw\n",
      "  24 alb_method: varDecay\n",
      "  25 compaction: anderson\n",
      "  26 snowLayers: CLM_2010\n",
      "  27 thCondSnow: smnv2000\n",
      "  28 thCondSoil: funcSoilWet\n",
      "  29 spatial_gw: localColumn\n",
      "  30 subRouting: timeDlay\n",
      "  31 snowDenNew: pahaut_76\n",
      "startTime: iyyy, im, id, ih, imin = 2015 10  1  0  0\n",
      "finshTime: iyyy, im, id, ih, imin = 2016  7 26  0  0\n",
      "/home/jovyan/work/cewa564_project/olympics/mthop/summa_setup/settings/../params/local_param_info.txt\n",
      "/home/jovyan/work/cewa564_project/olympics/mthop/summa_setup/settings/../params/basin_param_info.txt\n",
      "Skipping over LUTYPE = USGS\n",
      "Skipping over SLTYPE = STAS\n",
      "Skipping over SLTYPE = STAS-RUC\n",
      " hruIndex\n",
      " frozenPrecipMultip\n",
      " heightCanopyTop\n",
      " heightCanopyBottom\n",
      " critSoilWilting\n",
      " critSoilTranspire\n",
      " theta_res\n",
      " theta_sat\n",
      " theta_mp\n",
      " fieldCapacity\n",
      " k_soil\n",
      " k_macropore\n",
      " lowerBoundTemp\n",
      "Created output file:/home/jovyan/work/cewa564_project/olympics/mthop/summa_setup/output/mthop_deafult_output_output_default_timestep.nc\n",
      "2015 10  1  0  0\n",
      "2015 10  2  0  0\n",
      "2015 10  3  0  0\n",
      "2015 10  4  0  0\n",
      "2015 10  5  0  0\n",
      "2015 10  6  0  0\n",
      "2015 10  7  0  0\n",
      "2015 10  8  0  0\n",
      "2015 10  9  0  0\n",
      "2015 10 10  0  0\n",
      "2015 10 11  0  0\n",
      "2015 10 12  0  0\n",
      "2015 10 13  0  0\n",
      "2015 10 14  0  0\n",
      "2015 10 15  0  0\n",
      "2015 10 16  0  0\n",
      "2015 10 17  0  0\n",
      "2015 10 18  0  0\n",
      "2015 10 19  0  0\n",
      "2015 10 20  0  0\n",
      "2015 10 21  0  0\n",
      "2015 10 22  0  0\n",
      "2015 10 23  0  0\n",
      "2015 10 24  0  0\n",
      "2015 10 25  0  0\n",
      "2015 10 26  0  0\n",
      "2015 10 27  0  0\n",
      "2015 10 28  0  0\n",
      "2015 10 29  0  0\n",
      "2015 10 30  0  0\n",
      "2015 10 31  0  0\n",
      "2015 11  1  0  0\n",
      "2015 11  2  0  0\n",
      "2015 11  3  0  0\n",
      "2015 11  4  0  0\n",
      "2015 11  5  0  0\n",
      "2015 11  6  0  0\n",
      "2015 11  7  0  0\n",
      "2015 11  8  0  0\n",
      "2015 11  9  0  0\n",
      "2015 11 10  0  0\n",
      "2015 11 11  0  0\n",
      "2015 11 12  0  0\n",
      "2015 11 13  0  0\n",
      "2015 11 14  0  0\n",
      "2015 11 15  0  0\n",
      "2015 11 16  0  0\n",
      "2015 11 17  0  0\n",
      "2015 11 18  0  0\n",
      "2015 11 19  0  0\n",
      "2015 11 20  0  0\n",
      "2015 11 21  0  0\n",
      "2015 11 22  0  0\n",
      "2015 11 23  0  0\n",
      "2015 11 24  0  0\n",
      "2015 11 25  0  0\n",
      "2015 11 26  0  0\n",
      "2015 11 27  0  0\n",
      "2015 11 28  0  0\n",
      "2015 11 29  0  0\n",
      "2015 11 30  0  0\n",
      "2015 12  1  0  0\n",
      "2015 12  2  0  0\n",
      "2015 12  3  0  0\n",
      "2015 12  4  0  0\n",
      "2015 12  5  0  0\n",
      "2015 12  6  0  0\n",
      "2015 12  7  0  0\n",
      "2015 12  8  0  0\n",
      "2015 12  9  0  0\n",
      "2015 12 10  0  0\n",
      "2015 12 11  0  0\n",
      "2015 12 12  0  0\n",
      "2015 12 13  0  0\n",
      "2015 12 14  0  0\n",
      "2015 12 15  0  0\n",
      "2015 12 16  0  0\n",
      "2015 12 17  0  0\n",
      "2015 12 18  0  0\n",
      "2015 12 19  0  0\n",
      "2015 12 20  0  0\n",
      "2015 12 21  0  0\n",
      "2015 12 22  0  0\n",
      "2015 12 23  0  0\n",
      "2015 12 24  0  0\n",
      "2015 12 25  0  0\n",
      "2015 12 26  0  0\n",
      "2015 12 27  0  0\n",
      "2015 12 28  0  0\n",
      "2015 12 29  0  0\n",
      "2015 12 30  0  0\n",
      "2015 12 31  0  0\n",
      "2016  1  1  0  0\n",
      "2016  1  2  0  0\n",
      "2016  1  3  0  0\n",
      "2016  1  4  0  0\n",
      "2016  1  5  0  0\n",
      "2016  1  6  0  0\n",
      "2016  1  7  0  0\n",
      "2016  1  8  0  0\n",
      "2016  1  9  0  0\n",
      "2016  1 10  0  0\n",
      "2016  1 11  0  0\n",
      "2016  1 12  0  0\n",
      "2016  1 13  0  0\n",
      "2016  1 14  0  0\n",
      "2016  1 15  0  0\n",
      "2016  1 16  0  0\n",
      "2016  1 17  0  0\n",
      "2016  1 18  0  0\n",
      "2016  1 19  0  0\n",
      "2016  1 20  0  0\n",
      "2016  1 21  0  0\n",
      "2016  1 22  0  0\n",
      "2016  1 23  0  0\n",
      "2016  1 24  0  0\n",
      "2016  1 25  0  0\n",
      "2016  1 26  0  0\n",
      "2016  1 27  0  0\n",
      "2016  1 28  0  0\n",
      "2016  1 29  0  0\n",
      "2016  1 30  0  0\n",
      "2016  1 31  0  0\n",
      "2016  2  1  0  0\n",
      "2016  2  2  0  0\n",
      "2016  2  3  0  0\n",
      "2016  2  4  0  0\n",
      "2016  2  5  0  0\n",
      "2016  2  6  0  0\n",
      "2016  2  7  0  0\n",
      "2016  2  8  0  0\n",
      "2016  2  9  0  0\n",
      "2016  2 10  0  0\n",
      "2016  2 11  0  0\n",
      "2016  2 12  0  0\n",
      "2016  2 13  0  0\n",
      "2016  2 14  0  0\n",
      "2016  2 15  0  0\n",
      "2016  2 16  0  0\n",
      "2016  2 17  0  0\n",
      "2016  2 18  0  0\n",
      "2016  2 19  0  0\n",
      "2016  2 20  0  0\n",
      "2016  2 21  0  0\n",
      "2016  2 22  0  0\n",
      "2016  2 23  0  0\n",
      "2016  2 24  0  0\n",
      "2016  2 25  0  0\n",
      "2016  2 26  0  0\n",
      "2016  2 27  0  0\n",
      "2016  2 28  0  0\n",
      "2016  2 29  0  0\n",
      "2016  3  1  0  0\n",
      "2016  3  2  0  0\n",
      "2016  3  3  0  0\n",
      "2016  3  4  0  0\n",
      "2016  3  5  0  0\n",
      "2016  3  6  0  0\n",
      "2016  3  7  0  0\n",
      "2016  3  8  0  0\n",
      "2016  3  9  0  0\n",
      "2016  3 10  0  0\n",
      "2016  3 11  0  0\n",
      "2016  3 12  0  0\n",
      "2016  3 13  0  0\n",
      "2016  3 14  0  0\n",
      "2016  3 15  0  0\n",
      "2016  3 16  0  0\n",
      "2016  3 17  0  0\n",
      "2016  3 18  0  0\n",
      "2016  3 19  0  0\n",
      "2016  3 20  0  0\n",
      "2016  3 21  0  0\n",
      "2016  3 22  0  0\n",
      "2016  3 23  0  0\n",
      "2016  3 24  0  0\n",
      "2016  3 25  0  0\n",
      "2016  3 26  0  0\n",
      "2016  3 27  0  0\n",
      "2016  3 28  0  0\n",
      "2016  3 29  0  0\n",
      "2016  3 30  0  0\n",
      "2016  3 31  0  0\n",
      "2016  4  1  0  0\n",
      "2016  4  2  0  0\n",
      "2016  4  3  0  0\n",
      "2016  4  4  0  0\n",
      "2016  4  5  0  0\n",
      "2016  4  6  0  0\n",
      "2016  4  7  0  0\n",
      "2016  4  8  0  0\n",
      "2016  4  9  0  0\n",
      "2016  4 10  0  0\n",
      "2016  4 11  0  0\n",
      "2016  4 12  0  0\n",
      "2016  4 13  0  0\n",
      "2016  4 14  0  0\n",
      "2016  4 15  0  0\n",
      "2016  4 16  0  0\n",
      "2016  4 17  0  0\n",
      "2016  4 18  0  0\n",
      "2016  4 19  0  0\n",
      "2016  4 20  0  0\n",
      "2016  4 21  0  0\n",
      "2016  4 22  0  0\n",
      "2016  4 23  0  0\n",
      "2016  4 24  0  0\n",
      "2016  4 25  0  0\n",
      "2016  4 26  0  0\n",
      "2016  4 27  0  0\n",
      "2016  4 28  0  0\n",
      "2016  4 29  0  0\n",
      "2016  4 30  0  0\n",
      "2016  5  1  0  0\n",
      "2016  5  2  0  0\n",
      "2016  5  3  0  0\n",
      "2016  5  4  0  0\n",
      "2016  5  5  0  0\n",
      "2016  5  6  0  0\n",
      "2016  5  7  0  0\n",
      "2016  5  8  0  0\n",
      "2016  5  9  0  0\n",
      "2016  5 10  0  0\n",
      "2016  5 11  0  0\n",
      "2016  5 12  0  0\n",
      "2016  5 13  0  0\n",
      "2016  5 14  0  0\n",
      "2016  5 15  0  0\n",
      "2016  5 16  0  0\n",
      "2016  5 17  0  0\n",
      "2016  5 18  0  0\n",
      "2016  5 19  0  0\n",
      "2016  5 20  0  0\n",
      "2016  5 21  0  0\n",
      "2016  5 22  0  0\n",
      "2016  5 23  0  0\n",
      "2016  5 24  0  0\n",
      "2016  5 25  0  0\n",
      "2016  5 26  0  0\n",
      "2016  5 27  0  0\n",
      "2016  5 28  0  0\n",
      "2016  5 29  0  0\n",
      "2016  5 30  0  0\n",
      "2016  5 31  0  0\n",
      "2016  6  1  0  0\n",
      "2016  6  2  0  0\n",
      "2016  6  3  0  0\n",
      "2016  6  4  0  0\n",
      "2016  6  5  0  0\n",
      "2016  6  6  0  0\n",
      "2016  6  7  0  0\n",
      "2016  6  8  0  0\n",
      "2016  6  9  0  0\n",
      "2016  6 10  0  0\n",
      "2016  6 11  0  0\n",
      "2016  6 12  0  0\n",
      "2016  6 13  0  0\n",
      "2016  6 14  0  0\n",
      "2016  6 15  0  0\n",
      "2016  6 16  0  0\n",
      "2016  6 17  0  0\n",
      "2016  6 18  0  0\n",
      "2016  6 19  0  0\n",
      "2016  6 20  0  0\n",
      "2016  6 21  0  0\n",
      "2016  6 22  0  0\n",
      "2016  6 23  0  0\n",
      "2016  6 24  0  0\n",
      "2016  6 25  0  0\n",
      "2016  6 26  0  0\n",
      "2016  6 27  0  0\n",
      "2016  6 28  0  0\n",
      "2016  6 29  0  0\n",
      "2016  6 30  0  0\n",
      "2016  7  1  0  0\n",
      "2016  7  2  0  0\n",
      "2016  7  3  0  0\n",
      "2016  7  4  0  0\n",
      "2016  7  5  0  0\n",
      "2016  7  6  0  0\n",
      "2016  7  7  0  0\n",
      "2016  7  8  0  0\n",
      "2016  7  9  0  0\n",
      "2016  7 10  0  0\n",
      "2016  7 11  0  0\n",
      "2016  7 12  0  0\n",
      "2016  7 13  0  0\n",
      "2016  7 14  0  0\n",
      "2016  7 15  0  0\n",
      "2016  7 16  0  0\n",
      "2016  7 17  0  0\n",
      "2016  7 18  0  0\n",
      "2016  7 19  0  0\n",
      "2016  7 20  0  0\n",
      "2016  7 21  0  0\n",
      "2016  7 22  0  0\n",
      "2016  7 23  0  0\n",
      "2016  7 24  0  0\n",
      "2016  7 25  0  0\n",
      "2016  7 26  0  0\n",
      "\n",
      "initial date/time = 2019-05-30  20:11:17.847\n",
      "  final date/time = 2019-05-30  20:11:24.143\n",
      "\n",
      "     elapsed init =   5.8000000E-02 s\n",
      "    fraction init =   9.2121982E-03 s\n",
      "\n",
      "     elapsed read =   0.7450000     s\n",
      "    fraction read =   0.1183291     s\n",
      "\n",
      "    elapsed write =    1.007000     s\n",
      "   fraction write =   0.1599428     s\n",
      "\n",
      "  elapsed physics =    4.421000     s\n",
      " fraction physics =   0.7021919     s\n",
      "\n",
      "     elapsed time =    6.296000     s\n",
      "       or             0.1049333     m\n",
      "       or             1.7488889E-03 h\n",
      "       or             7.2870370E-05 d\n",
      "\n",
      "   number threads =          1\n",
      "\n",
      " FORTRAN STOP: finished simulation successfully.\n",
      "\n",
      "========\n",
      "\n",
      "stderr:\n",
      "-------\n",
      "Note: The following floating-point exceptions are signalling: IEEE_INVALID_FLAG IEEE_UNDERFLOW_FLAG\n",
      "\n",
      "========\n",
      "\n"
     ]
    }
   ],
   "source": [
    "# Great, it is working now... time to create more then one simulation object with different model decisions/parameter values\n",
    "\n",
    "# The output netCDF is currently empty... fixed it. but used this to find the error. \n",
    "#output = xr.open_dataset('/home/jovyan/work/cewa564_project/olympics/mthop/summa_setup/output/mthop_deafult_output_output_default_timestep.nc')\n",
    "\n",
    "print('stdout:\\n-------\\n{}\\n========\\n'.format(S.stdout))\n",
    "print('stderr:\\n-------\\n{}\\n========\\n'.format(S.stderr))"
   ]
  },
  {
   "cell_type": "code",
   "execution_count": 14,
   "metadata": {},
   "outputs": [
    {
     "data": {
      "text/plain": [
       "'lightSnow'"
      ]
     },
     "execution_count": 14,
     "metadata": {},
     "output_type": "execute_result"
    }
   ],
   "source": [
    "S.output.snowIncept"
   ]
  },
  {
   "cell_type": "code",
   "execution_count": 13,
   "metadata": {},
   "outputs": [],
   "source": [
    "#S.output.scalarCanopyIce.plot()"
   ]
  },
  {
   "cell_type": "code",
   "execution_count": 14,
   "metadata": {},
   "outputs": [],
   "source": [
    "#S.output.scalarCanopyLiq.plot()"
   ]
  },
  {
   "cell_type": "code",
   "execution_count": 51,
   "metadata": {},
   "outputs": [],
   "source": [
    "#S.output.scalarCanopyWat.plot() "
   ]
  },
  {
   "cell_type": "code",
   "execution_count": 17,
   "metadata": {},
   "outputs": [
    {
     "name": "stdout",
     "output_type": "stream",
     "text": [
      "upperBoundHead            |      -7.5d-1 |      -1.0d+2 |      -1.0d-2\n",
      "lowerBoundHead            |      -1.0d+1 |      -1.0d+2 |      -1.0d-2\n",
      "upperBoundTheta           |       0.2004 |       0.1020 |       0.3680\n",
      "lowerBoundTheta           |       0.1100 |       0.1020 |       0.3680\n",
      "upperBoundTemp            |     272.1600 |     270.1600 |     280.1600\n",
      "lowerBoundTemp            |     274.1600 |     270.1600 |     280.1600\n",
      "tempCritRain              |     273.1600 |     272.1600 |     274.1600\n",
      "tempRangeTimestep         |       2.0000 |       0.5000 |       5.0000\n",
      "frozenPrecipMultip        |       1.0000 |       0.5000 |       1.5000\n",
      "snowfrz_scale             |      50.0000 |      10.0000 |    1000.0000\n",
      "fixedThermalCond_snow     |       0.3500 |       0.1000 |       1.0000\n",
      "albedoMax                 |       0.8400 |       0.7000 |       0.9500\n",
      "albedoMinWinter           |       0.5500 |       0.6000 |       1.0000\n",
      "albedoMinSpring           |       0.5500 |       0.3000 |       1.0000\n",
      "albedoMaxVisible          |       0.9500 |       0.7000 |       0.9500\n",
      "albedoMinVisible          |       0.7500 |       0.5000 |       0.7500\n",
      "albedoMaxNearIR           |       0.6500 |       0.5000 |       0.7500\n",
      "albedoMinNearIR           |       0.3000 |       0.1500 |       0.4500\n",
      "albedoDecayRate           |       1.0d+6 |       1.0d+5 |       5.0d+6\n",
      "albedoSootLoad            |       0.3000 |       0.1000 |       0.5000\n",
      "albedoRefresh             |       1.0000 |       1.0000 |      10.0000\n",
      "radExt_snow               |      20.0000 |      20.0000 |      20.0000\n",
      "directScale               |       0.0900 |       0.0000 |       0.5000\n",
      "Frad_direct               |       0.7000 |       0.0000 |       1.0000\n",
      "Frad_vis                  |       0.5000 |       0.0000 |       1.0000\n",
      "newSnowDenMin             |     100.0000 |      50.0000 |     100.0000\n",
      "newSnowDenMult            |     100.0000 |      25.0000 |      75.0000\n",
      "newSnowDenScal            |       5.0000 |       1.0000 |       5.0000\n",
      "constSnowDen              |     100.0000 |      50.0000 |     250.0000\n",
      "newSnowDenAdd             |     109.0000 |      80.0000 |     120.0000\n",
      "newSnowDenMultTemp        |       6.0000 |       1.0000 |      12.0000\n",
      "newSnowDenMultWind        |      26.0000 |      16.0000 |      36.0000\n",
      "newSnowDenMultAnd         |       1.0000 |       1.0000 |       3.0000\n",
      "newSnowDenBase            |       0.0000 |       0.0000 |       0.0000\n",
      "densScalGrowth            |       0.0460 |       0.0230 |       0.0920\n",
      "tempScalGrowth            |       0.0400 |       0.0200 |       0.0600\n",
      "grainGrowthRate           |       2.7d-6 |       1.0d-6 |       5.0d-6\n",
      "densScalOvrbdn            |       0.0230 |       0.0115 |       0.0460\n",
      "tempScalOvrbdn            |       0.0800 |       0.6000 |       1.0000\n",
      "baseViscosity             |       9.0d+5 |       5.0d+5 |       1.5d+6\n",
      "Fcapil                    |       0.0600 |       0.0100 |       0.1000\n",
      "k_snow                    |       0.0150 |       0.0050 |       0.0500\n",
      "mw_exp                    |       3.0000 |       1.0000 |       5.0000\n",
      "z0Snow                    |       0.0010 |       0.0010 |      10.0000\n",
      "z0Soil                    |       0.0100 |       0.0010 |      10.0000\n",
      "z0Canopy                  |       0.1000 |       0.0010 |      10.0000\n",
      "zpdFraction               |       0.6500 |       0.5000 |       0.8500\n",
      "critRichNumber            |       9.0000 |       9.0000 |       9.0000\n",
      "Louis79_bparam            |       9.4000 |       9.2000 |       9.6000\n",
      "Louis79_cStar             |       5.3000 |       5.1000 |       5.5000\n",
      "Mahrt87_eScale            |       1.0000 |       0.5000 |       2.0000\n",
      "leafExchangeCoeff         |       0.0250 |       0.0250 |       0.0250\n",
      "windReductionParam        |       0.9500 |       0.9500 |       0.9500\n",
      "Kc25                      |     296.0770 |     296.0770 |     296.0770\n",
      "Ko25                      |       0.2961 |       0.2961 |       0.2961\n",
      "Kc_qFac                   |       2.1000 |       2.1000 |       2.1000\n",
      "Ko_qFac                   |       1.2000 |       1.2000 |       1.2000\n",
      "kc_Ha                     |       7.9d+4 |       7.9d+4 |       7.9d+4\n",
      "ko_Ha                     |       3.6d+4 |       3.6d+4 |       3.6d+4\n",
      "vcmax25_canopyTop         |      40.0000 |      20.0000 |     100.0000\n",
      "vcmax_qFac                |       2.4000 |       2.4000 |       2.4000\n",
      "vcmax_Ha                  |       6.5d+4 |       6.5d+4 |       6.5d+4\n",
      "vcmax_Hd                  |       2.2d+5 |       1.5d+5 |       1.5d+5\n",
      "vcmax_Sv                  |     710.0000 |     485.0000 |     485.0000\n",
      "vcmax_Kn                  |       0.6000 |       0.0000 |       1.2000\n",
      "jmax25_scale              |       2.0000 |       2.0000 |       2.0000\n",
      "jmax_Ha                   |       4.4d+4 |       4.4d+4 |       4.4d+4\n",
      "jmax_Hd                   |       1.5d+5 |       1.5d+5 |       1.5d+5\n",
      "jmax_Sv                   |     495.0000 |     495.0000 |     495.0000\n",
      "fractionJ                 |       0.1500 |       0.1500 |       0.1500\n",
      "quantamYield              |       0.0500 |       0.0500 |       0.0500\n",
      "vpScaleFactor             |    1500.0000 |    1500.0000 |    1500.0000\n",
      "cond2photo_slope          |       9.0000 |       1.0000 |      10.0000\n",
      "minStomatalConductance    |    2000.0000 |    2000.0000 |    2000.0000\n",
      "winterSAI                 |       1.0000 |       0.0100 |       3.0000\n",
      "summerLAI                 |       3.0000 |       0.0100 |      10.0000\n",
      "rootScaleFactor1          |       2.0000 |       1.0000 |      10.0000\n",
      "rootScaleFactor2          |       5.0000 |       1.0000 |      10.0000\n",
      "rootingDepth              |       0.5000 |       0.0100 |      10.0000\n",
      "rootDistExp               |       1.0000 |       0.0100 |       1.0000\n",
      "plantWiltPsi              |      -1.5d+2 |      -5.0d+2 |       0.0000\n",
      "soilStressParam           |       5.8000 |       4.3600 |       6.3700\n",
      "critSoilWilting           |       0.0750 |       0.0000 |       1.0000\n",
      "critSoilTranspire         |       0.1750 |       0.0000 |       1.0000\n",
      "critAquiferTranspire      |       0.2000 |       0.1000 |      10.0000\n",
      "minStomatalResistance     |      50.0000 |      10.0000 |     200.0000\n",
      "leafDimension             |       0.0400 |       0.0100 |       0.1000\n",
      "heightCanopyTop           |      20.0000 |       0.0500 |     100.0000\n",
      "heightCanopyBottom        |       2.0000 |       0.0000 |       5.0000\n",
      "specificHeatVeg           |     874.0000 |     500.0000 |    1500.0000\n",
      "maxMassVegetation         |      25.0000 |       1.0000 |      50.0000\n",
      "throughfallScaleSnow      |       0.5000 |       0.1000 |       0.9000\n",
      "throughfallScaleRain      |       0.5000 |       0.1000 |       0.9000\n",
      "refInterceptCapSnow       |       6.6000 |       1.0000 |      10.0000\n",
      "refInterceptCapRain       |       1.0000 |       0.0100 |       1.0000\n",
      "snowUnloadingCoeff        |       0.0000 |       0.0000 |       1.5d-6\n",
      "canopyDrainageCoeff       |       0.0050 |       0.0010 |       0.0100\n",
      "ratioDrip2Unloading       |       0.4000 |       0.0000 |       1.0000\n",
      "canopyWettingFactor       |       0.7000 |       0.0000 |       1.0000\n",
      "canopyWettingExp          |       1.0000 |       0.0000 |       1.0000\n",
      "soil_dens_intr            |    2700.0000 |     500.0000 |    4000.0000\n",
      "thCond_soil               |       5.5000 |       2.9000 |       8.4000\n",
      "frac_sand                 |       0.1600 |       0.0000 |       1.0000\n",
      "frac_silt                 |       0.2800 |       0.0000 |       1.0000\n",
      "frac_clay                 |       0.5600 |       0.0000 |       1.0000\n",
      "fieldCapacity             |       0.2000 |       0.0000 |       1.0000\n",
      "wettingFrontSuction       |       0.3000 |       0.1000 |       1.5000\n",
      "theta_mp                  |       0.4010 |       0.3000 |       0.6000\n",
      "theta_sat                 |       0.5500 |       0.3000 |       0.6000\n",
      "theta_res                 |       0.1390 |       0.0010 |       0.1000\n",
      "vGn_alpha                 |      -8.4d-1 |      -1.0d+0 |      -1.0d-2\n",
      "vGn_n                     |       1.3000 |       1.0000 |       3.0000\n",
      "mpExp                     |       5.0000 |       1.0000 |      10.0000\n",
      "k_soil                    |       7.5d-6 |       1.0d-7 |       1.0d-5\n",
      "k_macropore               |       0.0010 |       1.0d-7 |       1.0d-5\n",
      "kAnisotropic              |       1.0000 |       0.0001 |      10.0000\n",
      "zScale_TOPMODEL           |       2.5000 |       0.1000 |     100.0000\n",
      "compactedDepth            |       1.0000 |       0.0000 |       1.0000\n",
      "aquiferScaleFactor        |       0.3500 |       0.1000 |     100.0000\n",
      "aquiferBaseflowExp        |       2.0000 |       1.0000 |      10.0000\n",
      "qSurfScale                |      50.0000 |       1.0000 |     100.0000\n",
      "specificYield             |       0.2000 |       0.1000 |       0.3000\n",
      "specificStorage           |       1.0d-9 |       1.0d-5 |       1.0d-7\n",
      "f_impede                  |       2.0000 |       1.0000 |      10.0000\n",
      "soilIceScale              |       0.1300 |       0.0001 |       1.0000\n",
      "soilIceCV                 |       0.4500 |       0.1000 |       5.0000\n",
      "minwind                   |       0.1000 |       0.0010 |       1.0000\n",
      "minstep                   |       1.0000 |       1.0000 |    1800.0000\n",
      "maxstep                   |    3600.0000 |      60.0000 |    1800.0000\n",
      "wimplicit                 |       0.0000 |       0.0000 |       1.0000\n",
      "maxiter                   |     100.0000 |       1.0000 |     100.0000\n",
      "relConvTol_liquid         |       0.0010 |       1.0d-5 |       0.1000\n",
      "absConvTol_liquid         |       1.0d-5 |       1.0d-8 |       0.0010\n",
      "relConvTol_matric         |       1.0d-6 |       1.0d-5 |       0.1000\n",
      "absConvTol_matric         |       1.0d-6 |       1.0d-8 |       0.0010\n",
      "relConvTol_energy         |       0.0100 |       1.0d-5 |       0.1000\n",
      "absConvTol_energy         |       1.0000 |       0.0100 |      10.0000\n",
      "relConvTol_aquifr         |       1.0000 |       0.0100 |      10.0000\n",
      "absConvTol_aquifr         |       1.0d-5 |       1.0d-5 |       0.1000\n",
      "zmin                      |       0.0100 |       0.0050 |       0.1000\n",
      "zmax                      |       0.0500 |       0.0100 |       0.5000\n",
      "zminLayer1                |       0.0075 |       0.0075 |       0.0075\n",
      "zminLayer2                |       0.0100 |       0.0100 |       0.0100\n",
      "zminLayer3                |       0.0500 |       0.0500 |       0.0500\n",
      "zminLayer4                |       0.1000 |       0.1000 |       0.1000\n",
      "zminLayer5                |       0.2500 |       0.2500 |       0.2500\n",
      "zmaxLayer1_lower          |       0.0500 |       0.0500 |       0.0500\n",
      "zmaxLayer2_lower          |       0.2000 |       0.2000 |       0.2000\n",
      "zmaxLayer3_lower          |       0.5000 |       0.5000 |       0.5000\n",
      "zmaxLayer4_lower          |       1.0000 |       1.0000 |       1.0000\n",
      "zmaxLayer1_upper          |       0.0300 |       0.0300 |       0.0300\n",
      "zmaxLayer2_upper          |       0.1500 |       0.1500 |       0.1500\n",
      "zmaxLayer3_upper          |       0.3000 |       0.3000 |       0.3000\n",
      "zmaxLayer4_upper          |       0.7500 |       0.7500 |       0.7500\n"
     ]
    }
   ],
   "source": [
    "print(S.local_param_info)"
   ]
  },
  {
   "cell_type": "code",
   "execution_count": 18,
   "metadata": {},
   "outputs": [
    {
     "data": {
      "text/plain": [
       "[0.0, 0.0, 1.5e-06]"
      ]
     },
     "execution_count": 18,
     "metadata": {},
     "output_type": "execute_result"
    }
   ],
   "source": [
    "S.local_param_info.snowUnloadingCoeff.value"
   ]
  },
  {
   "cell_type": "code",
   "execution_count": 25,
   "metadata": {},
   "outputs": [
    {
     "data": {
      "text/plain": [
       "[6.6, 1.0, 10.0]"
      ]
     },
     "execution_count": 25,
     "metadata": {},
     "output_type": "execute_result"
    }
   ],
   "source": [
    "S.local_param_info.refInterceptCapSnow.value"
   ]
  },
  {
   "cell_type": "code",
   "execution_count": 26,
   "metadata": {},
   "outputs": [
    {
     "data": {
      "text/plain": [
       "[0.4, 0.0, 1.0]"
      ]
     },
     "execution_count": 26,
     "metadata": {},
     "output_type": "execute_result"
    }
   ],
   "source": [
    "S.local_param_info.ratioDrip2Unloading.value"
   ]
  },
  {
   "cell_type": "markdown",
   "metadata": {},
   "source": [
    "* Note from Bart's Demo code about changing parameter values. \n",
    "\n",
    "> **BE AWARE: as we are making these changes, we are modifying the same SUMMA configuration files. If you want to return to the original SUMMA setup, you will need to manually undo these changes (using the same functions) or you can re-install the model configuration.**"
   ]
  },
  {
   "cell_type": "code",
   "execution_count": null,
   "metadata": {},
   "outputs": [],
   "source": [
    "# Example of changing parameter values with .set_value() which keeps everything formatted properly with pySUMMA\n",
    "#S.local_param_info.zminLayer3.set_value([100.0, 0.0500, 0.0500])\n",
    "\n",
    "#S.local_param_info.snowUnloadingCoeff.set_value(0.0, 0.0, 1.5e-06)"
   ]
  },
  {
   "cell_type": "markdown",
   "metadata": {},
   "source": [
    "## Create and configure SUMMA runs with different interception parameterizations\n",
    "### Things that concern us in our interception study \n",
    "First: The two interception parameterizations: \n",
    "#### - Hedstrom and Pomeroy 1998 : lightSnow\n",
    "#### - Andreadis et al. 2009 : stickySnow\n",
    "\n",
    "\n",
    "##### Model Decisions:\n",
    ">choice of interception parameterizations  \n",
    "* snowIncept: *lightSnow or stickySnow*\n",
    "* refInterceptCapSnow: currently set to [6.6, 1.0, 10.0] This \n",
    "\n",
    "_______________________________________________________________________________________\n",
    "Other Model Decisions that could be of interest: \n",
    "> choice of method for new snow density\n",
    "* snowDenNew:  *hedAndPom, anderson, pahaut_76, constDens*\n",
    "\n",
    "##### Model Parameters:\n",
    "> * snowUnloadingCoeff: some values between 0 and 1 , currently [0.0, 0.0, 1.5e-06]\n",
    "> * ratioDrip2Unloading: 0 to 0.4, currently [0.4, 0.0, 1.0]"
   ]
  },
  {
   "cell_type": "code",
   "execution_count": 23,
   "metadata": {},
   "outputs": [
    {
     "data": {
      "text/plain": [
       "['stickySnow', 'lightSnow']"
      ]
     },
     "execution_count": 23,
     "metadata": {},
     "output_type": "execute_result"
    }
   ],
   "source": [
    "S.decisions.snowIncept.available_options"
   ]
  },
  {
   "cell_type": "code",
   "execution_count": 26,
   "metadata": {},
   "outputs": [
    {
     "data": {
      "text/plain": [
       "['consettl', 'anderson']"
      ]
     },
     "execution_count": 26,
     "metadata": {},
     "output_type": "execute_result"
    }
   ],
   "source": [
    "S.decisions.compaction.available_options"
   ]
  },
  {
   "cell_type": "code",
   "execution_count": 40,
   "metadata": {},
   "outputs": [
    {
     "data": {
      "text/plain": [
       "['hedAndPom', 'anderson', 'pahaut_76', 'constDens']"
      ]
     },
     "execution_count": 40,
     "metadata": {},
     "output_type": "execute_result"
    }
   ],
   "source": [
    "S.decisions.snowDenNew.available_options"
   ]
  },
  {
   "cell_type": "code",
   "execution_count": 27,
   "metadata": {},
   "outputs": [
    {
     "name": "stdout",
     "output_type": "stream",
     "text": [
      "/home/jovyan/work/cewa564_project/olympics/mthop/notebooks\n"
     ]
    }
   ],
   "source": [
    "!pwd"
   ]
  },
  {
   "cell_type": "markdown",
   "metadata": {},
   "source": [
    "### Changing the Parameter Values"
   ]
  },
  {
   "cell_type": "code",
   "execution_count": 24,
   "metadata": {},
   "outputs": [],
   "source": [
    "# if you run, print(S.local_param_info), then it prints all the parameter values currently set. \n",
    "# Below are the deafult model parameter values from the local_para list \n",
    "\n",
    "# snowUnloadingCoeff        |       0.0000 |       0.0000 |       1.5d-6\n",
    "# refInterceptCapSnow       |       6.6000 |       1.0000 |      10.0000\n",
    "# ratioDrip2Unloading       |       0.4000 |       0.0000 |       1.0000\n",
    "# canopyWettingFactor       |       0.7000 |       0.0000 |       1.0000\n",
    "# canopyWettingExp          |       1.0000 |       0.0000 |       1.0000\n",
    "\n",
    "# I want to keep track of the origional values because once I change them, I will have to change them back directly or reload the entire file"
   ]
  },
  {
   "cell_type": "code",
   "execution_count": 47,
   "metadata": {},
   "outputs": [
    {
     "data": {
      "text/plain": [
       "<xarray.Dataset>\n",
       "Dimensions:                    (gru: 1, hru: 1, time: 7177)\n",
       "Coordinates:\n",
       "  * time                       (time) datetime64[ns] 2015-10-01 ... 2016-07-26\n",
       "  * hru                        (hru) int32 1\n",
       "Dimensions without coordinates: gru\n",
       "Data variables:\n",
       "    pptrate                    (time, hru) float64 ...\n",
       "    airtemp                    (time, hru) float64 ...\n",
       "    SWRadAtm                   (time, hru) float64 ...\n",
       "    LWRadAtm                   (time, hru) float64 ...\n",
       "    hruId                      (hru) int32 ...\n",
       "    averageInstantRunoff       (time, gru) float64 ...\n",
       "    averageRoutedRunoff        (time, gru) float64 ...\n",
       "    nSnow                      (time, hru) int32 ...\n",
       "    nSoil                      (time, hru) int32 ...\n",
       "    nLayers                    (time, hru) int32 ...\n",
       "    scalarCanopyIce            (time, hru) float64 ...\n",
       "    scalarCanopyLiq            (time, hru) float64 ...\n",
       "    scalarCanairTemp           (time, hru) float64 ...\n",
       "    scalarCanopyTemp           (time, hru) float64 ...\n",
       "    scalarSWE                  (time, hru) float64 ...\n",
       "    scalarSurfaceTemp          (time, hru) float64 ...\n",
       "    scalarTotalSoilLiq         (time, hru) float64 ...\n",
       "    scalarTotalSoilIce         (time, hru) float64 ...\n",
       "    scalarCanairNetNrgFlux     (time, hru) float64 ...\n",
       "    scalarCanopyNetNrgFlux     (time, hru) float64 ...\n",
       "    scalarGroundNetNrgFlux     (time, hru) float64 ...\n",
       "    scalarLWNetUbound          (time, hru) float64 ...\n",
       "    scalarSenHeatTotal         (time, hru) float64 ...\n",
       "    scalarLatHeatTotal         (time, hru) float64 ...\n",
       "    scalarLatHeatCanopyEvap    (time, hru) float64 ...\n",
       "    scalarLatHeatCanopyTrans   (time, hru) float64 ...\n",
       "    scalarLatHeatGround        (time, hru) float64 ...\n",
       "    scalarCanopySublimation    (time, hru) float64 ...\n",
       "    scalarSnowSublimation      (time, hru) float64 ...\n",
       "    scalarCanopyTranspiration  (time, hru) float64 ...\n",
       "    scalarCanopyEvaporation    (time, hru) float64 ...\n",
       "    scalarGroundEvaporation    (time, hru) float64 ...\n",
       "    scalarThroughfallSnow      (time, hru) float64 ...\n",
       "    scalarThroughfallRain      (time, hru) float64 ...\n",
       "    scalarRainPlusMelt         (time, hru) float64 ...\n",
       "    scalarInfiltration         (time, hru) float64 ...\n",
       "    scalarExfiltration         (time, hru) float64 ...\n",
       "    scalarSurfaceRunoff        (time, hru) float64 ...\n",
       "    scalarSoilBaseflow         (time, hru) float64 ...\n",
       "    scalarAquiferBaseflow      (time, hru) float64 ...\n",
       "    scalarTotalRunoff          (time, hru) float64 ...\n",
       "    scalarNetRadiation         (time, hru) float64 ...\n",
       "Attributes:\n",
       "    summaVersion:     v2.0.0\n",
       "    buildTime:        Wed May 29 00:23:27 UTC 2019\n",
       "    gitBranch:        cewa564_pangeo-0-gb074b0f\n",
       "    gitHash:          b074b0ffabd75fea76c2e6db31c6fa284d6d3826\n",
       "    soilStress:       NoahType\n",
       "    stomResist:       simpleResistance\n",
       "    num_method:       itertive\n",
       "    fDerivMeth:       analytic\n",
       "    LAI_method:       monTable\n",
       "    notPopulatedYet:  notPopulatedYet\n",
       "    f_Richards:       mixdform\n",
       "    groundwatr:       qTopmodl\n",
       "    hc_profile:       pow_prof\n",
       "    bcUpprTdyn:       nrg_flux\n",
       "    bcLowrTdyn:       zeroFlux\n",
       "    bcUpprSoiH:       liq_flux\n",
       "    bcLowrSoiH:       zeroFlux\n",
       "    veg_traits:       CM_QJRMS1988\n",
       "    rootProfil:       powerLaw\n",
       "    canopyEmis:       difTrans\n",
       "    snowIncept:       lightSnow\n",
       "    windPrfile:       logBelowCanopy\n",
       "    astability:       louisinv\n",
       "    canopySrad:       BeersLaw\n",
       "    alb_method:       varDecay\n",
       "    snowLayers:       CLM_2010\n",
       "    compaction:       anderson\n",
       "    thCondSnow:       smnv2000\n",
       "    thCondSoil:       funcSoilWet\n",
       "    spatial_gw:       localColumn\n",
       "    subRouting:       timeDlay\n",
       "    snowDenNew:       pahaut_76"
      ]
     },
     "execution_count": 47,
     "metadata": {},
     "output_type": "execute_result"
    }
   ],
   "source": [
    "ds2 = xr.open_dataset('/home/jovyan/work/cewa564_project/olympics/mthop/summa_setup/output/mthop_deafult_output_output_default_timestep.nc')\n",
    "ds2"
   ]
  },
  {
   "cell_type": "code",
   "execution_count": null,
   "metadata": {},
   "outputs": [],
   "source": []
  },
  {
   "cell_type": "code",
   "execution_count": null,
   "metadata": {},
   "outputs": [],
   "source": []
  },
  {
   "cell_type": "markdown",
   "metadata": {},
   "source": [
    "#### I need to add some state/diagnostic variables to the output simulation objects\n",
    "I am just going to add everything that I think would be interesting to investigate. \n",
    "* scalarCanopyWat : mass of total water on the vegetation canopy (kg m-2)\n",
    "* scalarCanopyWetFraction : fraction of the canopy that is wet\n",
    "* scalarSnowAge : non-dimensional snow age (-)"
   ]
  },
  {
   "cell_type": "code",
   "execution_count": null,
   "metadata": {},
   "outputs": [],
   "source": []
  },
  {
   "cell_type": "code",
   "execution_count": null,
   "metadata": {},
   "outputs": [],
   "source": []
  },
  {
   "cell_type": "markdown",
   "metadata": {},
   "source": [
    "## Setting up the pySUMMA Simulations"
   ]
  },
  {
   "cell_type": "code",
   "execution_count": null,
   "metadata": {},
   "outputs": [],
   "source": [
    "# We want to create a new simulation object for each run, by first creating a copy of the S simulation object \n",
    "S_simple = copy.copy(S)\n",
    "\n",
    "# Run pySUMMA at mthop with lightSnow\n",
    "S_lightSnow = copy.copy(S)\n",
    "S_lightSnow.decisions.snowIncept.set_value('lightSnow')\n",
    "S_lightSnow.start(run_option = 'local', run_suffix=\"lightSnow\")\n",
    "S_lightSnow.monitor()\n",
    "\n",
    "# Run pySUMMA at mthop with stickySnow\n",
    "S_stickySnow = copy.copy(S)\n",
    "S_stickySnow.decisions.snowIncept.set_value('stickySnow')\n",
    "S_stickySnow.start(run_option = 'local', run_suffix=\"stickySnow\")\n",
    "S_stickySnow.monitor()"
   ]
  },
  {
   "cell_type": "code",
   "execution_count": null,
   "metadata": {},
   "outputs": [],
   "source": []
  },
  {
   "cell_type": "code",
   "execution_count": null,
   "metadata": {},
   "outputs": [],
   "source": []
  },
  {
   "cell_type": "code",
   "execution_count": null,
   "metadata": {},
   "outputs": [],
   "source": []
  },
  {
   "cell_type": "code",
   "execution_count": null,
   "metadata": {},
   "outputs": [],
   "source": []
  },
  {
   "cell_type": "code",
   "execution_count": null,
   "metadata": {},
   "outputs": [],
   "source": []
  },
  {
   "cell_type": "code",
   "execution_count": null,
   "metadata": {},
   "outputs": [],
   "source": []
  },
  {
   "cell_type": "code",
   "execution_count": null,
   "metadata": {},
   "outputs": [],
   "source": []
  },
  {
   "cell_type": "code",
   "execution_count": null,
   "metadata": {},
   "outputs": [],
   "source": []
  },
  {
   "cell_type": "code",
   "execution_count": null,
   "metadata": {},
   "outputs": [],
   "source": []
  },
  {
   "cell_type": "code",
   "execution_count": null,
   "metadata": {},
   "outputs": [],
   "source": []
  }
 ],
 "metadata": {
  "kernelspec": {
   "display_name": "Python 3",
   "language": "python",
   "name": "python3"
  },
  "language_info": {
   "codemirror_mode": {
    "name": "ipython",
    "version": 3
   },
   "file_extension": ".py",
   "mimetype": "text/x-python",
   "name": "python",
   "nbconvert_exporter": "python",
   "pygments_lexer": "ipython3",
   "version": "3.6.7"
  }
 },
 "nbformat": 4,
 "nbformat_minor": 2
}
