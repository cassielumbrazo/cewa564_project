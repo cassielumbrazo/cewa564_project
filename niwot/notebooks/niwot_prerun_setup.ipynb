{
 "cells": [
  {
   "cell_type": "markdown",
   "metadata": {},
   "source": [
    "#### Notebook to get local attribute files matching the forcing data"
   ]
  },
  {
   "cell_type": "code",
   "execution_count": 1,
   "metadata": {},
   "outputs": [],
   "source": [
    "%matplotlib inline\n",
    "import matplotlib.pyplot as plt\n",
    "import pysumma as ps\n",
    "import copy\n",
    "import os.path\n",
    "\n",
    "from pysumma.plotting import plotting\n",
    "from jupyterthemes import jtplot\n",
    "\n",
    "import pandas as pd\n",
    "import numpy as np\n",
    "import xarray as xr"
   ]
  },
  {
   "cell_type": "code",
   "execution_count": 2,
   "metadata": {},
   "outputs": [
    {
     "name": "stdout",
     "output_type": "stream",
     "text": [
      "/home/jovyan/work/cewa564_project/niwot/notebooks\n"
     ]
    }
   ],
   "source": [
    "!pwd"
   ]
  },
  {
   "cell_type": "markdown",
   "metadata": {},
   "source": [
    "#### Local Attributes File"
   ]
  },
  {
   "cell_type": "code",
   "execution_count": 3,
   "metadata": {},
   "outputs": [
    {
     "data": {
      "text/plain": [
       "<xarray.Dataset>\n",
       "Dimensions:         (gru: 1, hru: 1)\n",
       "Dimensions without coordinates: gru, hru\n",
       "Data variables:\n",
       "    hruId           (hru) int32 ...\n",
       "    gruId           (gru) int32 ...\n",
       "    hru2gruId       (hru) int32 ...\n",
       "    downHRUindex    (hru) int32 ...\n",
       "    longitude       (hru) float64 ...\n",
       "    latitude        (hru) float64 ...\n",
       "    elevation       (hru) float64 ...\n",
       "    HRUarea         (hru) float64 ...\n",
       "    tan_slope       (hru) float64 ...\n",
       "    contourLength   (hru) float64 ...\n",
       "    slopeTypeIndex  (hru) int32 ...\n",
       "    soilTypeIndex   (hru) int32 ...\n",
       "    vegTypeIndex    (hru) int32 ...\n",
       "    mHeight         (hru) float64 ...\n",
       "Attributes:\n",
       "    history:  Converted to NetCDF using \"../../tools/localAttributes_ascii_to..."
      ]
     },
     "execution_count": 3,
     "metadata": {},
     "output_type": "execute_result"
    }
   ],
   "source": [
    "local_a = xr.open_dataset('/home/jovyan/work/cewa564_project/niwot/summa_setup/params/local_attributes.nc')\n",
    "local_a"
   ]
  },
  {
   "cell_type": "code",
   "execution_count": null,
   "metadata": {},
   "outputs": [],
   "source": [
    "# Niwot Site Specifics that need to be changed in the attribute file\n",
    "# latitude 40.0329\n",
    "# longitude -105.5464\n",
    "# elevation 3050 m"
   ]
  },
  {
   "cell_type": "code",
   "execution_count": 16,
   "metadata": {},
   "outputs": [
    {
     "data": {
      "text/plain": [
       "<xarray.DataArray 'latitude' (hru: 1)>\n",
       "array([40.0329])\n",
       "Dimensions without coordinates: hru\n",
       "Attributes:\n",
       "    long_name:  Latitude of HRU's centroid\n",
       "    units:      Decimal degree north"
      ]
     },
     "execution_count": 16,
     "metadata": {},
     "output_type": "execute_result"
    }
   ],
   "source": [
    "local_a['latitude'][:] = 40.0329\n",
    "local_a['latitude']"
   ]
  },
  {
   "cell_type": "code",
   "execution_count": 17,
   "metadata": {},
   "outputs": [],
   "source": [
    "local_a['longitude'][:] = -105.5464\n",
    "local_a['elevation'][:] = 3050"
   ]
  },
  {
   "cell_type": "code",
   "execution_count": 19,
   "metadata": {},
   "outputs": [
    {
     "data": {
      "text/plain": [
       "<xarray.DataArray 'hruId' (hru: 1)>\n",
       "array([1001], dtype=int32)\n",
       "Dimensions without coordinates: hru\n",
       "Attributes:\n",
       "    long_name:  Index of hydrological response unit (HRU)\n",
       "    units:      -\n",
       "    v_type:     scalarv"
      ]
     },
     "execution_count": 19,
     "metadata": {},
     "output_type": "execute_result"
    }
   ],
   "source": [
    "local_a.hruId"
   ]
  },
  {
   "cell_type": "code",
   "execution_count": null,
   "metadata": {},
   "outputs": [],
   "source": []
  },
  {
   "cell_type": "code",
   "execution_count": null,
   "metadata": {},
   "outputs": [],
   "source": []
  },
  {
   "cell_type": "markdown",
   "metadata": {},
   "source": [
    "### Focing Data"
   ]
  },
  {
   "cell_type": "code",
   "execution_count": 6,
   "metadata": {},
   "outputs": [
    {
     "data": {
      "text/plain": [
       "<xarray.Dataset>\n",
       "Dimensions:    (hru: 1, time: 8784)\n",
       "Coordinates:\n",
       "  * time       (time) datetime64[ns] 2015-10-01 ... 2016-09-30T23:00:00\n",
       "Dimensions without coordinates: hru\n",
       "Data variables:\n",
       "    LWRadAtm   (time, hru) float64 ...\n",
       "    SWRadAtm   (time, hru) float64 ...\n",
       "    airtemp    (time, hru) float64 ...\n",
       "    pptrate    (time, hru) float64 ...\n",
       "    spechum    (time, hru) float64 ...\n",
       "    airpres    (time, hru) float64 ...\n",
       "    windspd    (time, hru) float64 ...\n",
       "    datastep   float64 ...\n",
       "    latitude   (hru) float64 ...\n",
       "    longitude  (hru) float64 ...\n",
       "    hruID      (hru) float64 ...\n",
       "    hruId      (hru) float64 ...\n",
       "    data_step  float64 ..."
      ]
     },
     "execution_count": 6,
     "metadata": {},
     "output_type": "execute_result"
    }
   ],
   "source": [
    "forcing = xr.open_dataset('/home/jovyan/work/cewa564_project/niwot/summa_setup/forcings/Niwot_2016.nc')\n",
    "forcing"
   ]
  },
  {
   "cell_type": "code",
   "execution_count": 10,
   "metadata": {},
   "outputs": [
    {
     "data": {
      "text/plain": [
       "<xarray.DataArray 'hruId' (hru: 1)>\n",
       "array([1001.])\n",
       "Dimensions without coordinates: hru"
      ]
     },
     "execution_count": 10,
     "metadata": {},
     "output_type": "execute_result"
    }
   ],
   "source": [
    "forcing.hruId"
   ]
  },
  {
   "cell_type": "code",
   "execution_count": 11,
   "metadata": {},
   "outputs": [
    {
     "data": {
      "text/plain": [
       "<xarray.DataArray 'hruID' (hru: 1)>\n",
       "array([9.96921e+36])\n",
       "Dimensions without coordinates: hru"
      ]
     },
     "execution_count": 11,
     "metadata": {},
     "output_type": "execute_result"
    }
   ],
   "source": [
    "forcing.hruID"
   ]
  },
  {
   "cell_type": "code",
   "execution_count": 12,
   "metadata": {},
   "outputs": [
    {
     "data": {
      "text/plain": [
       "<xarray.DataArray 'latitude' (hru: 1)>\n",
       "array([40.0329])\n",
       "Dimensions without coordinates: hru"
      ]
     },
     "execution_count": 12,
     "metadata": {},
     "output_type": "execute_result"
    }
   ],
   "source": [
    "forcing.latitude"
   ]
  },
  {
   "cell_type": "code",
   "execution_count": 13,
   "metadata": {},
   "outputs": [
    {
     "data": {
      "text/plain": [
       "<xarray.DataArray 'longitude' (hru: 1)>\n",
       "array([-105.5464])\n",
       "Dimensions without coordinates: hru"
      ]
     },
     "execution_count": 13,
     "metadata": {},
     "output_type": "execute_result"
    }
   ],
   "source": [
    "forcing.longitude"
   ]
  },
  {
   "cell_type": "code",
   "execution_count": 27,
   "metadata": {},
   "outputs": [
    {
     "data": {
      "text/plain": [
       "<xarray.DataArray 'time' (time: 8784)>\n",
       "array(['2015-10-01T00:00:00.000000000', '2015-10-01T01:00:00.000000000',\n",
       "       '2015-10-01T02:00:00.000000000', ..., '2016-09-30T21:00:00.000000000',\n",
       "       '2016-09-30T22:00:00.000000000', '2016-09-30T23:00:00.000000000'],\n",
       "      dtype='datetime64[ns]')\n",
       "Coordinates:\n",
       "  * time     (time) datetime64[ns] 2015-10-01 ... 2016-09-30T23:00:00"
      ]
     },
     "execution_count": 27,
     "metadata": {},
     "output_type": "execute_result"
    }
   ],
   "source": [
    "forcing.time"
   ]
  },
  {
   "cell_type": "markdown",
   "metadata": {},
   "source": [
    "### ADDED THE CORRECT TIME TO THE decisions.txt file in the summa_setup/settings directory "
   ]
  },
  {
   "cell_type": "code",
   "execution_count": null,
   "metadata": {},
   "outputs": [],
   "source": []
  },
  {
   "cell_type": "markdown",
   "metadata": {},
   "source": [
    "### Investigating Other Files for Potential Changes to match the Niwot Site"
   ]
  },
  {
   "cell_type": "code",
   "execution_count": 23,
   "metadata": {},
   "outputs": [
    {
     "data": {
      "text/plain": [
       "<xarray.Dataset>\n",
       "Dimensions:               (hru: 1, ifcToto: 10, midSoil: 9, midToto: 9, scalarv: 1)\n",
       "Dimensions without coordinates: hru, ifcToto, midSoil, midToto, scalarv\n",
       "Data variables:\n",
       "    scalarSnowAlbedo      (scalarv, hru) float64 ...\n",
       "    scalarSfcMeltPond     (scalarv, hru) float64 ...\n",
       "    scalarCanairTemp      (scalarv, hru) float64 ...\n",
       "    dt_init               (scalarv, hru) float64 ...\n",
       "    mLayerTemp            (midToto, hru) float64 ...\n",
       "    mLayerVolFracLiq      (midToto, hru) float64 ...\n",
       "    mLayerVolFracIce      (midToto, hru) float64 ...\n",
       "    scalarSnowDepth       (scalarv, hru) float64 ...\n",
       "    nSoil                 (scalarv, hru) int64 ...\n",
       "    mLayerDepth           (midToto, hru) float64 ...\n",
       "    scalarCanopyTemp      (scalarv, hru) float64 ...\n",
       "    mLayerMatricHead      (midSoil, hru) float64 ...\n",
       "    scalarCanopyIce       (scalarv, hru) float64 ...\n",
       "    scalarSWE             (scalarv, hru) float64 ...\n",
       "    nSnow                 (scalarv, hru) int64 ...\n",
       "    iLayerHeight          (ifcToto, hru) float64 ...\n",
       "    scalarAquiferStorage  (scalarv, hru) float64 ...\n",
       "    scalarCanopyLiq       (scalarv, hru) float64 ...\n",
       "Attributes:\n",
       "    history:  Converted to NetCDF using \"tools/initConditions_ascii_to_nc.py ..."
      ]
     },
     "execution_count": 23,
     "metadata": {},
     "output_type": "execute_result"
    }
   ],
   "source": [
    "init_c = xr.open_dataset('/home/jovyan/work/cewa564_project/niwot/summa_setup/params/initial_conditions.nc')\n",
    "init_c"
   ]
  },
  {
   "cell_type": "code",
   "execution_count": null,
   "metadata": {},
   "outputs": [],
   "source": []
  },
  {
   "cell_type": "code",
   "execution_count": null,
   "metadata": {},
   "outputs": [],
   "source": []
  },
  {
   "cell_type": "code",
   "execution_count": null,
   "metadata": {},
   "outputs": [],
   "source": []
  },
  {
   "cell_type": "code",
   "execution_count": null,
   "metadata": {},
   "outputs": [],
   "source": []
  }
 ],
 "metadata": {
  "kernelspec": {
   "display_name": "Python 3",
   "language": "python",
   "name": "python3"
  },
  "language_info": {
   "codemirror_mode": {
    "name": "ipython",
    "version": 3
   },
   "file_extension": ".py",
   "mimetype": "text/x-python",
   "name": "python",
   "nbconvert_exporter": "python",
   "pygments_lexer": "ipython3",
   "version": "3.6.7"
  }
 },
 "nbformat": 4,
 "nbformat_minor": 2
}
